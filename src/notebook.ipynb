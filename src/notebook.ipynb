{
 "cells": [
  {
   "cell_type": "code",
   "execution_count": 4,
   "metadata": {},
   "outputs": [
    {
     "name": "stdout",
     "output_type": "stream",
     "text": [
      "[INFO] Couldn't find going_modular scripts... downloading them from GitHub.\n",
      "Cloning into 'pytorch-deep-learning'...\n",
      "remote: Enumerating objects: 4356, done.\u001b[K\n",
      "remote: Counting objects: 100% (321/321), done.\u001b[K\n",
      "remote: Compressing objects: 100% (143/143), done.\u001b[K\n",
      "remote: Total 4356 (delta 213), reused 253 (delta 177), pack-reused 4035 (from 1)\u001b[K\n",
      "Receiving objects: 100% (4356/4356), 654.51 MiB | 2.41 MiB/s, done.\n",
      "Resolving deltas: 100% (2584/2584), done.\n",
      "Updating files: 100% (248/248), done.\n"
     ]
    },
    {
     "name": "stderr",
     "output_type": "stream",
     "text": [
      "/home/andakara/.pyenv/versions/3.10.13/envs/.metlit-venv/lib/python3.10/site-packages/tqdm/auto.py:21: TqdmWarning: IProgress not found. Please update jupyter and ipywidgets. See https://ipywidgets.readthedocs.io/en/stable/user_install.html\n",
      "  from .autonotebook import tqdm as notebook_tqdm\n"
     ]
    }
   ],
   "source": [
    "# Continue with regular imports\n",
    "import matplotlib.pyplot as plt\n",
    "import torch\n",
    "import torchvision\n",
    "\n",
    "from torch import nn\n",
    "from torchvision import transforms\n",
    "\n",
    "# Try to get torchinfo, install it if it doesn't work\n",
    "try:\n",
    "    from torchinfo import summary\n",
    "except:\n",
    "    print(\"[INFO] Couldn't find torchinfo... installing it.\")\n",
    "    !pip install -q torchinfo\n",
    "    from torchinfo import summary\n",
    "\n",
    "# Try to import the going_modular directory, download it from GitHub if it doesn't work\n",
    "try:\n",
    "    from going_modular.going_modular import data_setup, engine\n",
    "except:\n",
    "    # Get the going_modular scripts\n",
    "    print(\"[INFO] Couldn't find going_modular scripts... downloading them from GitHub.\")\n",
    "    !git clone https://github.com/mrdbourke/pytorch-deep-learning\n",
    "    !mv pytorch-deep-learning/going_modular .\n",
    "    !rm -rf pytorch-deep-learning\n",
    "    from going_modular.going_modular import data_setup, engine"
   ]
  },
  {
   "cell_type": "code",
   "execution_count": 5,
   "metadata": {},
   "outputs": [
    {
     "data": {
      "text/plain": [
       "'cuda'"
      ]
     },
     "execution_count": 5,
     "metadata": {},
     "output_type": "execute_result"
    }
   ],
   "source": [
    "# Setup device agnostic code\n",
    "device = \"cuda\" if torch.cuda.is_available() else \"cpu\"\n",
    "device"
   ]
  },
  {
   "cell_type": "code",
   "execution_count": 1,
   "metadata": {},
   "outputs": [],
   "source": [
    "import os\n",
    "import shutil\n",
    "from sklearn.model_selection import train_test_split"
   ]
  },
  {
   "cell_type": "code",
   "execution_count": 6,
   "metadata": {},
   "outputs": [
    {
     "name": "stdout",
     "output_type": "stream",
     "text": [
      "Dataset split into training and test sets successfully.\n"
     ]
    }
   ],
   "source": [
    "image_path = '../data/CombinedAll'\n",
    "dest_dir = '../data/CombinedAll'\n",
    "categories = ['Healthy', 'Patient']\n",
    "\n",
    "# Create destination directories\n",
    "for category in categories:\n",
    "    os.makedirs(os.path.join(dest_dir, 'train', category), exist_ok=True)\n",
    "    os.makedirs(os.path.join(dest_dir, 'test', category), exist_ok=True)\n",
    "\n",
    "# Split and copy files\n",
    "for category in categories:\n",
    "    category_path = os.path.join(image_path, category)\n",
    "    files = os.listdir(category_path)\n",
    "    train_files, test_files = train_test_split(files, test_size=0.2, random_state=42)\n",
    "    \n",
    "    for file in train_files:\n",
    "        shutil.copy(os.path.join(category_path, file), os.path.join(dest_dir, 'train', category, file))\n",
    "    \n",
    "    for file in test_files:\n",
    "        shutil.copy(os.path.join(category_path, file), os.path.join(dest_dir, 'test', category, file))\n",
    "\n",
    "print(\"Dataset split into training and test sets successfully.\")"
   ]
  },
  {
   "cell_type": "code",
   "execution_count": 10,
   "metadata": {},
   "outputs": [],
   "source": [
    "from pathlib import Path"
   ]
  },
  {
   "cell_type": "code",
   "execution_count": null,
   "metadata": {},
   "outputs": [],
   "source": [
    "# Setup path to data folder\n",
    "data_path = Path(\"data/\")\n",
    "image_path = data_path / \"CombinedAll\""
   ]
  },
  {
   "cell_type": "code",
   "execution_count": 15,
   "metadata": {},
   "outputs": [
    {
     "data": {
      "text/plain": [
       "(PosixPath('data/CombinedAll/train'), PosixPath('data/CombinedAll/test'))"
      ]
     },
     "execution_count": 15,
     "metadata": {},
     "output_type": "execute_result"
    }
   ],
   "source": [
    "# Setup Dirs\n",
    "train_dir = image_path / \"train\"\n",
    "test_dir = image_path / \"test\"\n",
    "train_dir, test_dir"
   ]
  }
 ],
 "metadata": {
  "kernelspec": {
   "display_name": ".metlit-venv",
   "language": "python",
   "name": "python3"
  },
  "language_info": {
   "codemirror_mode": {
    "name": "ipython",
    "version": 3
   },
   "file_extension": ".py",
   "mimetype": "text/x-python",
   "name": "python",
   "nbconvert_exporter": "python",
   "pygments_lexer": "ipython3",
   "version": "3.10.13"
  }
 },
 "nbformat": 4,
 "nbformat_minor": 2
}
